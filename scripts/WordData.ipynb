{
 "cells": [
  {
   "cell_type": "code",
   "execution_count": 1,
   "metadata": {},
   "outputs": [],
   "source": [
    "import pandas as pd\n",
    "import os\n",
    "from pdf2image import convert_from_path\n",
    "import imagehash\n",
    "import PIL\n",
    "from PIL import Image\n",
    "HASH = 3"
   ]
  },
  {
   "cell_type": "code",
   "execution_count": 1,
   "metadata": {},
   "outputs": [],
   "source": [
    "# TODO uncomment\n",
    "# data = pd.read_csv(\"../data/tablebank/Detection_data/gt_5000.csv\", sep=\";\")\n",
    "# display(data.head())\n",
    "# data.shape"
   ]
  },
  {
   "cell_type": "code",
   "execution_count": 3,
   "metadata": {},
   "outputs": [
    {
     "data": {
      "text/plain": [
       "571"
      ]
     },
     "execution_count": 3,
     "metadata": {},
     "output_type": "execute_result"
    }
   ],
   "source": [
    "word_correct = os.listdir(\"../data/tablebank/Detection_data/Word/pdf/\")\n",
    "len(word_correct)"
   ]
  },
  {
   "cell_type": "code",
   "execution_count": 4,
   "metadata": {},
   "outputs": [
    {
     "data": {
      "text/plain": [
       "2571"
      ]
     },
     "execution_count": 4,
     "metadata": {},
     "output_type": "execute_result"
    }
   ],
   "source": [
    "latex_correct = list(map(lambda x: x.split(\"/\")[len(x.split(\"/\"))-1],\n",
    "                    list(pd.read_csv(\"../data/tablebank/Detection_data/gt_subset_latex_2990_filtered2.csv\", sep=\";\")[\"file\"])))\n",
    "len(latex_correct)"
   ]
  },
  {
   "cell_type": "code",
   "execution_count": 5,
   "metadata": {},
   "outputs": [
    {
     "data": {
      "text/plain": [
       "3142"
      ]
     },
     "execution_count": 5,
     "metadata": {},
     "output_type": "execute_result"
    }
   ],
   "source": [
    "correct = word_correct + latex_correct\n",
    "len(correct)"
   ]
  },
  {
   "cell_type": "code",
   "execution_count": 6,
   "metadata": {},
   "outputs": [],
   "source": [
    "def compare_img(img1, img2):\n",
    "    return imagehash.average_hash(img1) - imagehash.average_hash(img2)"
   ]
  },
  {
   "cell_type": "code",
   "execution_count": 7,
   "metadata": {},
   "outputs": [
    {
     "name": "stdout",
     "output_type": "stream",
     "text": [
      "../data/tablebank/Detection_data/Word/pdf/%20Edward%20Dawes%20paper_13.pdf 1\n",
      "../data/tablebank/Detection_data/Word/pdf/%20Edward%20Dawes%20paper_3.pdf 0\n",
      "../data/tablebank/Detection_data/Word/pdf/%20Edward%20Dawes%20paper_5.pdf 0\n",
      "../data/tablebank/Detection_data/Word/pdf/%20Edward%20Dawes%20paper_6.pdf 3\n",
      "../data/tablebank/Detection_data/Word/pdf/%20VNR%2014-I-9_5.pdf 0\n",
      "../data/tablebank/Detection_data/Word/pdf/%5BMS-FSVCA%5D-170601_17.pdf 1\n",
      "../data/tablebank/Detection_data/Word/pdf/%5BMS-FSVCA%5D-170601_6.pdf 1\n",
      "../data/tablebank/Detection_data/Word/pdf/%5BMS-OAPXBC%5D-170613_12.pdf 2\n",
      "../data/tablebank/Detection_data/Word/pdf/%5BMS-OXCFXICS%5D-080425_1.pdf 1\n",
      "../data/tablebank/Detection_data/Word/pdf/%5BMS-OXCFXICS%5D-080425_13.pdf 0\n",
      "../data/tablebank/Detection_data/Word/pdf/%5BMS-OXCFXICS%5D-080425_19.pdf 2\n",
      "../data/tablebank/Detection_data/Word/pdf/%5BMS-OXCFXICS%5D-080425_39.pdf 3\n",
      "../data/tablebank/Detection_data/Word/pdf/%5BMS-OXCFXICS%5D-080425_44.pdf 1\n",
      "../data/tablebank/Detection_data/Word/pdf/%5BMS-OXCFXICS%5D-080425_47.pdf 3\n",
      "../data/tablebank/Detection_data/Word/pdf/%5BMS-OXCFXICS%5D-080425_50.pdf 3\n",
      "../data/tablebank/Detection_data/Word/pdf/%5BMS-OXODLGT%5D-080425_1.pdf 1\n",
      "../data/tablebank/Detection_data/Word/pdf/%5BMS-OXODLGT%5D-080425_10.pdf 1\n",
      "../data/tablebank/Detection_data/Word/pdf/%5BMS-OXODLGT%5D-080425_13.pdf 2\n",
      "../data/tablebank/Detection_data/Word/pdf/%5BMS-OXODLGT%5D-080425_16.pdf 2\n",
      "../data/tablebank/Detection_data/Word/pdf/%C3%96nc%C3%BCp%C4%B1nar%20S%C4%B1nav%20kurulu%20komisyon%20karar%C4%B1_0.pdf 1\n",
      "../data/tablebank/Detection_data/Word/pdf/%C5%A0IZ%202017-%20KON%C4%8CNI%20REZULTATI-sportnazveza-ng_5.pdf 3\n",
      "../data/tablebank/Detection_data/Word/pdf/%c5%beprs-izvje%c5%a1%c4%87e%20o%20radu%20u%202017_0.pdf 2\n",
      "../data/tablebank/Detection_data/Word/pdf/%d0%94%d0%be%d0%ba%d1%83%d0%bc%d0%b5%d0%bd%d1%82%20Microsoft%20Office%20Word(2)_0.pdf 0\n",
      "../data/tablebank/Detection_data/Word/pdf/%d0%94%d0%be%d0%ba%d1%83%d0%bc%d0%b5%d0%bd%d1%82%20Microsoft%20Office%20Word(2)_1.pdf 0\n",
      "../data/tablebank/Detection_data/Word/pdf/(1)%20Application%20Format%20for%20PGTs%20and%20TGTs_2.pdf 2\n",
      "../data/tablebank/Detection_data/Word/pdf/(4)%20REL%20DE%20PLANOS%20LAB%20FCP%20AA_0.pdf 3\n",
      "../data/tablebank/Detection_data/Word/pdf/-BJHS_Algebra_Syllabus_17-18_1_1.pdf 3\n",
      "../data/tablebank/Detection_data/Word/pdf/00%20-%20Sintesis_de_Novedades_Impositivas_y_Previsionales_12.pdf 3\n",
      "../data/tablebank/Detection_data/Word/pdf/00%20-%20Sintesis_de_Novedades_Impositivas_y_Previsionales_13.pdf 1\n",
      "../data/tablebank/Detection_data/Word/pdf/00005636_1.pdf 0\n",
      "../data/tablebank/Detection_data/Word/pdf/00060348_Project%20Document%20on%20GFATM%20HIV%20Programme.docx.docx_4.pdf 0\n",
      "../data/tablebank/Detection_data/Word/pdf/001-eINTERASIACommunicationPlan200613Last_0.pdf 1\n",
      "../data/tablebank/Detection_data/Word/pdf/001-eINTERASIACommunicationPlan200613Last_1.pdf 2\n",
      "../data/tablebank/Detection_data/Word/pdf/0045836aaa8a2eaaca5397242e5ed7b3_35.pdf 1\n",
      "../data/tablebank/Detection_data/Word/pdf/01%2003%2000%2000%2048_July11_16.pdf 1\n",
      "../data/tablebank/Detection_data/Word/pdf/025_20440ns1112_172_181_1.pdf 1\n",
      "../data/tablebank/Detection_data/Word/pdf/02_015666_2.pdf 3\n",
      "../data/tablebank/Detection_data/Word/pdf/02_015683_0.pdf 2\n",
      "../data/tablebank/Detection_data/Word/pdf/02_015687_0.pdf 1\n",
      "../data/tablebank/Detection_data/Word/pdf/02_015693_0.pdf 3\n",
      "../data/tablebank/Detection_data/Word/pdf/02_2017___IN_PROAP_ANEXO_XI___SGPe_16888_2016_14896148237445_0.pdf 2\n",
      "../data/tablebank/Detection_data/Word/pdf/02_annex_identification_form_1.pdf 2\n",
      "../data/tablebank/Detection_data/Word/pdf/02_annex_identification_form_2.pdf 0\n",
      "../data/tablebank/Detection_data/Word/pdf/02_Fisa_generala_evaluare_M6_6B-3_12.pdf 3\n",
      "../data/tablebank/Detection_data/Word/pdf/02_Fisa_generala_evaluare_M6_6B-3_15.pdf 2\n",
      "../data/tablebank/Detection_data/Word/pdf/02_Fisa_generala_evaluare_M7_6B_15.pdf 0\n",
      "../data/tablebank/Detection_data/Word/pdf/02_Fisa_generala_evaluare_M7_6B_4.pdf 2\n",
      "../data/tablebank/Detection_data/Word/pdf/02_indirect_elisa_2.pdf 2\n",
      "../data/tablebank/Detection_data/Word/pdf/02_Konacni_nacrt_Strategije_01_11.pdf 2\n",
      "../data/tablebank/Detection_data/Word/pdf/02_Konacni_nacrt_Strategije_01_15.pdf 2\n",
      "../data/tablebank/Detection_data/Word/pdf/02_Konacni_nacrt_Strategije_01_29.pdf 3\n",
      "../data/tablebank/Detection_data/Word/pdf/02_Konacni_nacrt_Strategije_01_7.pdf 1\n",
      "../data/tablebank/Detection_data/Word/pdf/02_Konacni_nacrt_Strategije_01_71.pdf 2\n",
      "../data/tablebank/Detection_data/Word/pdf/02_R.Derksen_5.pdf 1\n",
      "../data/tablebank/Detection_data/Word/pdf/03%20-%20(REVISED)%20BIDDING%20DOCUMENTS%20(HVAC)-20180521_18.pdf 0\n",
      "../data/tablebank/Detection_data/Word/pdf/03%20June%202018%20Singapore_1.pdf 0\n",
      "../data/tablebank/Detection_data/Word/pdf/03%20June%202018%20Singapore_2.pdf 0\n",
      "../data/tablebank/Detection_data/Word/pdf/03%20June%202018%20Singapore_4.pdf 1\n",
      "../data/tablebank/Detection_data/Word/pdf/03%20June%202018%20Singapore_5.pdf 1\n",
      "../data/tablebank/Detection_data/Word/pdf/03%20June%202018%20Singapore_6.pdf 0\n",
      "../data/tablebank/Detection_data/Word/pdf/03%20June%202018%20Singapore_7.pdf 1\n",
      "../data/tablebank/Detection_data/Word/pdf/03%20June%202018%20Singapore_8.pdf 1\n",
      "../data/tablebank/Detection_data/Word/pdf/03103754_derelendricibavuruformu_0.pdf 0\n",
      "../data/tablebank/Detection_data/Word/pdf/03113339_stratejkplan20152019yeni.doc_13.pdf 0\n",
      "../data/tablebank/Detection_data/Word/pdf/03113339_stratejkplan20152019yeni.doc_19.pdf 2\n",
      "../data/tablebank/Detection_data/Word/pdf/03113339_stratejkplan20152019yeni.doc_23.pdf 2\n",
      "../data/tablebank/Detection_data/Word/pdf/03113339_stratejkplan20152019yeni.doc_27.pdf 2\n",
      "../data/tablebank/Detection_data/Word/pdf/03113339_stratejkplan20152019yeni.doc_5.pdf 3\n",
      "../data/tablebank/Detection_data/Word/pdf/032_21833ns1112_220_229_8.pdf 1\n",
      "../data/tablebank/Detection_data/Word/pdf/03957-2018_2018-0271.ord_16.pdf 2\n",
      "../data/tablebank/Detection_data/Word/pdf/03957-2018_2018-0271.ord_9.pdf 3\n",
      "../data/tablebank/Detection_data/Word/pdf/03c_Podminky_-Dopis_5_1.pdf 1\n",
      "../data/tablebank/Detection_data/Word/pdf/03c_Podminky_-Dopis_5_5.pdf 1\n",
      "../data/tablebank/Detection_data/Word/pdf/03c_Podminky_-Dopis_5_8.pdf 1\n",
      "../data/tablebank/Detection_data/Word/pdf/03c_Podminky_-Dopis_5_9.pdf 0\n",
      "../data/tablebank/Detection_data/Word/pdf/03_Analiza_stanja_01_12.pdf 2\n",
      "../data/tablebank/Detection_data/Word/pdf/03_Analiza_stanja_01_15.pdf 1\n",
      "../data/tablebank/Detection_data/Word/pdf/03_Analiza_stanja_01_29.pdf 3\n",
      "../data/tablebank/Detection_data/Word/pdf/03_Analiza_stanja_01_32.pdf 3\n",
      "../data/tablebank/Detection_data/Word/pdf/03_Analiza_stanja_01_39.pdf 1\n",
      "../data/tablebank/Detection_data/Word/pdf/03_Analiza_stanja_01_4.pdf 3\n",
      "../data/tablebank/Detection_data/Word/pdf/03_Analiza_stanja_01_5.pdf 1\n",
      "../data/tablebank/Detection_data/Word/pdf/03_Analiza_stanja_01_7.pdf 0\n",
      "../data/tablebank/Detection_data/Word/pdf/03_Iskolabutor_beszerzes_kiiras_29.pdf 1\n",
      "../data/tablebank/Detection_data/Word/pdf/04-POF%20SCUOLA%20INFANZIA%20AVATANEI%202016-2017_2.pdf 2\n",
      "../data/tablebank/Detection_data/Word/pdf/04-POF%20SCUOLA%20INFANZIA%20AVATANEI%202016-2017_3.pdf 2\n",
      "../data/tablebank/Detection_data/Word/pdf/04-POF%20SCUOLA%20INFANZIA%20AVATANEI%202016-2017_4.pdf 0\n",
      "../data/tablebank/Detection_data/Word/pdf/04195-2018_2018-0311.ord_10.pdf 1\n",
      "../data/tablebank/Detection_data/Word/pdf/04195-2018_2018-0311.ord_7.pdf 3\n",
      "../data/tablebank/Detection_data/Word/pdf/04195-2018_2018-0311.ord_9.pdf 3\n",
      "../data/tablebank/Detection_data/Word/pdf/05-lp-_-relation-and-function_1.pdf 3\n",
      "../data/tablebank/Detection_data/Word/pdf/05-lp-_-relation-and-function_7.pdf 3\n",
      "../data/tablebank/Detection_data/Word/pdf/05.02.17.CM__0.pdf 0\n",
      "../data/tablebank/Detection_data/Word/pdf/05.Anexa1-3-a%20ITI.Incadrare_microintreprindere_4.pdf 2\n",
      "../data/tablebank/Detection_data/Word/pdf/0538481986_365415_1.pdf 0\n",
      "../data/tablebank/Detection_data/Word/pdf/0538481986_365415_4.pdf 1\n",
      "../data/tablebank/Detection_data/Word/pdf/0538481986_365415_5.pdf 2\n",
      "../data/tablebank/Detection_data/Word/pdf/0538481986_365415_7.pdf 3\n",
      "../data/tablebank/Detection_data/Word/pdf/05A99EA96AF736B6866AD5645CC40B9BD4C398CC_25.pdf 2\n",
      "../data/tablebank/Detection_data/Word/pdf/05A99EA96AF736B6866AD5645CC40B9BD4C398CC_27.pdf 1\n",
      "../data/tablebank/Detection_data/Word/pdf/05A99EA96AF736B6866AD5645CC40B9BD4C398CC_41.pdf 0\n"
     ]
    },
    {
     "name": "stdout",
     "output_type": "stream",
     "text": [
      "../data/tablebank/Detection_data/Word/pdf/05A99EA96AF736B6866AD5645CC40B9BD4C398CC_46.pdf 2\n",
      "../data/tablebank/Detection_data/Word/pdf/05KindergartenExpGrants_12.pdf 0\n",
      "../data/tablebank/Detection_data/Word/pdf/05PN-15r-siwz_12.pdf 0\n",
      "../data/tablebank/Detection_data/Word/pdf/05PN-15r-siwz_17.pdf 0\n",
      "../data/tablebank/Detection_data/Word/pdf/05PN-15r-siwz_8.pdf 0\n",
      "../data/tablebank/Detection_data/Word/pdf/06%20Jul%202018%20Singapore_0.pdf 0\n",
      "../data/tablebank/Detection_data/Word/pdf/06%20Jul%202018%20Singapore_10.pdf 0\n",
      "../data/tablebank/Detection_data/Word/pdf/06%20Jul%202018%20Singapore_11.pdf 0\n",
      "../data/tablebank/Detection_data/Word/pdf/06%20Jul%202018%20Singapore_2.pdf 0\n",
      "../data/tablebank/Detection_data/Word/pdf/06%20Jul%202018%20Singapore_3.pdf 0\n",
      "../data/tablebank/Detection_data/Word/pdf/06%20Jul%202018%20Singapore_4.pdf 1\n",
      "../data/tablebank/Detection_data/Word/pdf/06%20Jul%202018%20Singapore_5.pdf 0\n",
      "../data/tablebank/Detection_data/Word/pdf/06%20Jul%202018%20Singapore_6.pdf 1\n",
      "../data/tablebank/Detection_data/Word/pdf/06%20Jul%202018%20Singapore_7.pdf 1\n",
      "../data/tablebank/Detection_data/Word/pdf/06%20Jul%202018%20Singapore_8.pdf 0\n",
      "../data/tablebank/Detection_data/Word/pdf/06%20Jul%202018%20Singapore_9.pdf 0\n"
     ]
    }
   ],
   "source": [
    "for i, row in data.iterrows():\n",
    "    p = row[\"file\"].replace(\".jpg\", \".pdf\").split(\"/\")\n",
    "    file = p[len(p)-1]\n",
    "    if row[\"format\"] == \"Latex\":\n",
    "        if file not in latex_correct:\n",
    "            data.drop(i, inplace=True)\n",
    "        else:\n",
    "            row[\"file\"] = \"../data/tablebank/Detection_data/Latex/pdf/\" + file\n",
    "            data.loc[i] = row\n",
    "    elif row[\"format\"] == \"Word\":\n",
    "        if file not in word_correct:\n",
    "            data.drop(i, inplace=True)\n",
    "        else:\n",
    "            img2 = Image.open(row[\"file\"])\n",
    "            file = \"../data/tablebank/Detection_data/Word/pdf/\" + file\n",
    "            img1 = convert_from_path(file, size=img2.size, fmt='jpg')[0]\n",
    "            img1 = img1.resize(img2.size)\n",
    "            sim = compare_img(img1, img2)\n",
    "            if sim <= HASH:\n",
    "                print(file + \" \" + str(sim))\n",
    "                row[\"file\"] = file\n",
    "                data.loc[i] = row\n",
    "            else:\n",
    "                data.drop(i, inplace=True) "
   ]
  },
  {
   "cell_type": "code",
   "execution_count": 8,
   "metadata": {
    "scrolled": true
   },
   "outputs": [
    {
     "data": {
      "text/plain": [
       "(2688, 6)"
      ]
     },
     "execution_count": 8,
     "metadata": {},
     "output_type": "execute_result"
    }
   ],
   "source": [
    "data.shape"
   ]
  },
  {
   "cell_type": "code",
   "execution_count": 9,
   "metadata": {},
   "outputs": [],
   "source": [
    "data.to_csv(\"../data/tablebank/Detection_data/gt_subset.csv\", sep=\";\", index=0)"
   ]
  }
 ],
 "metadata": {
  "kernelspec": {
   "display_name": "Python 3",
   "language": "python",
   "name": "python3"
  },
  "language_info": {
   "codemirror_mode": {
    "name": "ipython",
    "version": 3
   },
   "file_extension": ".py",
   "mimetype": "text/x-python",
   "name": "python",
   "nbconvert_exporter": "python",
   "pygments_lexer": "ipython3",
   "version": "3.7.5"
  }
 },
 "nbformat": 4,
 "nbformat_minor": 2
}
